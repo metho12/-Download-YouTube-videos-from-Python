{
 "cells": [
  {
   "cell_type": "markdown",
   "metadata": {},
   "source": [
    "# Download YouTube videos from Python"
   ]
  },
  {
   "cell_type": "code",
   "execution_count": 1,
   "metadata": {
    "colab": {
     "base_uri": "https://localhost:8080/"
    },
    "executionInfo": {
     "elapsed": 5231,
     "status": "ok",
     "timestamp": 1657574734876,
     "user": {
      "displayName": "metho -",
      "userId": "10926137612878079765"
     },
     "user_tz": -180
    },
    "id": "wsNjBOcFJu3i",
    "outputId": "5efcf351-d848-43b7-d663-7f7e767682b7"
   },
   "outputs": [
    {
     "name": "stdout",
     "output_type": "stream",
     "text": [
      "Requirement already satisfied: pytube in /opt/anaconda3/lib/python3.9/site-packages (12.1.0)\n",
      "Note: you may need to restart the kernel to use updated packages.\n"
     ]
    }
   ],
   "source": [
    "pip install pytube"
   ]
  },
  {
   "cell_type": "code",
   "execution_count": 2,
   "metadata": {
    "executionInfo": {
     "elapsed": 3,
     "status": "ok",
     "timestamp": 1657575003908,
     "user": {
      "displayName": "metho -",
      "userId": "10926137612878079765"
     },
     "user_tz": -180
    },
    "id": "ZsiR8khrJjcd"
   },
   "outputs": [],
   "source": [
    "import pytube "
   ]
  },
  {
   "cell_type": "code",
   "execution_count": 3,
   "metadata": {
    "executionInfo": {
     "elapsed": 3,
     "status": "ok",
     "timestamp": 1657575005781,
     "user": {
      "displayName": "metho -",
      "userId": "10926137612878079765"
     },
     "user_tz": -180
    },
    "id": "rQ1QDIMYKzRA"
   },
   "outputs": [],
   "source": [
    "from pytube import YouTube"
   ]
  },
  {
   "cell_type": "code",
   "execution_count": 4,
   "metadata": {
    "colab": {
     "base_uri": "https://localhost:8080/"
    },
    "executionInfo": {
     "elapsed": 9271,
     "status": "ok",
     "timestamp": 1657575075574,
     "user": {
      "displayName": "metho -",
      "userId": "10926137612878079765"
     },
     "user_tz": -180
    },
    "id": "kZwjcVuiLD18",
    "outputId": "4285b08c-db5c-4a87-99ac-94a43728c733"
   },
   "outputs": [
    {
     "name": "stdout",
     "output_type": "stream",
     "text": [
      "Requirement already satisfied: tube_dl in /opt/anaconda3/lib/python3.9/site-packages (5.1.1)\n",
      "Requirement already satisfied: requests in /opt/anaconda3/lib/python3.9/site-packages (from tube_dl) (2.27.1)\n",
      "Requirement already satisfied: js2py in /opt/anaconda3/lib/python3.9/site-packages (from tube_dl) (0.71)\n",
      "Requirement already satisfied: tzlocal>=1.2 in /opt/anaconda3/lib/python3.9/site-packages (from js2py->tube_dl) (4.2)\n",
      "Requirement already satisfied: six>=1.10 in /opt/anaconda3/lib/python3.9/site-packages (from js2py->tube_dl) (1.16.0)\n",
      "Requirement already satisfied: pyjsparser>=2.5.1 in /opt/anaconda3/lib/python3.9/site-packages (from js2py->tube_dl) (2.7.1)\n",
      "Requirement already satisfied: pytz-deprecation-shim in /opt/anaconda3/lib/python3.9/site-packages (from tzlocal>=1.2->js2py->tube_dl) (0.1.0.post0)\n",
      "Requirement already satisfied: tzdata in /opt/anaconda3/lib/python3.9/site-packages (from pytz-deprecation-shim->tzlocal>=1.2->js2py->tube_dl) (2022.1)\n",
      "Requirement already satisfied: certifi>=2017.4.17 in /opt/anaconda3/lib/python3.9/site-packages (from requests->tube_dl) (2021.10.8)\n",
      "Requirement already satisfied: idna<4,>=2.5 in /opt/anaconda3/lib/python3.9/site-packages (from requests->tube_dl) (3.3)\n",
      "Requirement already satisfied: urllib3<1.27,>=1.21.1 in /opt/anaconda3/lib/python3.9/site-packages (from requests->tube_dl) (1.26.9)\n",
      "Requirement already satisfied: charset-normalizer~=2.0.0 in /opt/anaconda3/lib/python3.9/site-packages (from requests->tube_dl) (2.0.4)\n",
      "Note: you may need to restart the kernel to use updated packages.\n"
     ]
    }
   ],
   "source": [
    "pip install tube_dl"
   ]
  },
  {
   "cell_type": "code",
   "execution_count": 5,
   "metadata": {
    "colab": {
     "base_uri": "https://localhost:8080/"
    },
    "executionInfo": {
     "elapsed": 6851,
     "status": "ok",
     "timestamp": 1657575094129,
     "user": {
      "displayName": "metho -",
      "userId": "10926137612878079765"
     },
     "user_tz": -180
    },
    "id": "Po82iVTWLH_o",
    "outputId": "40f816cf-a475-4a52-e7d6-08df2e283396"
   },
   "outputs": [
    {
     "name": "stdout",
     "output_type": "stream",
     "text": [
      "No module named 'moviepy'\n"
     ]
    }
   ],
   "source": [
    "from tube_dl import Youtube\n"
   ]
  },
  {
   "cell_type": "code",
   "execution_count": 6,
   "metadata": {
    "colab": {
     "base_uri": "https://localhost:8080/",
     "height": 54
    },
    "executionInfo": {
     "elapsed": 1470,
     "status": "ok",
     "timestamp": 1657575474468,
     "user": {
      "displayName": "metho -",
      "userId": "10926137612878079765"
     },
     "user_tz": -180
    },
    "id": "Ig45mi55LAlF",
    "outputId": "93eca7b1-6a45-4452-bc3b-c2810cab8051"
   },
   "outputs": [
    {
     "name": "stdout",
     "output_type": "stream",
     "text": [
      "Apple HomePod Review: The Dumbest Smart Speaker?\n"
     ]
    },
    {
     "data": {
      "text/plain": [
       "'/Users/maithaalarjani/Desktop/video_/Apple HomePod Review The Dumbest Smart Speaker.3gpp'"
      ]
     },
     "execution_count": 6,
     "metadata": {},
     "output_type": "execute_result"
    }
   ],
   "source": [
    "import pytube\n",
    "link = \"https://www.youtube.com/watch?v=mpjREfvZiDs\"\n",
    "yt = pytube.YouTube(link)\n",
    "print(yt.title)\n",
    "stream = yt.streams.first()\n",
    "stream.download()"
   ]
  },
  {
   "cell_type": "code",
   "execution_count": null,
   "metadata": {},
   "outputs": [],
   "source": []
  }
 ],
 "metadata": {
  "colab": {
   "authorship_tag": "ABX9TyNvQvtK2ih4nVouRNVU1+e7",
   "name": "Download_video.ipynb",
   "provenance": []
  },
  "kernelspec": {
   "display_name": "Python 3 (ipykernel)",
   "language": "python",
   "name": "python3"
  },
  "language_info": {
   "codemirror_mode": {
    "name": "ipython",
    "version": 3
   },
   "file_extension": ".py",
   "mimetype": "text/x-python",
   "name": "python",
   "nbconvert_exporter": "python",
   "pygments_lexer": "ipython3",
   "version": "3.9.12"
  }
 },
 "nbformat": 4,
 "nbformat_minor": 1
}
